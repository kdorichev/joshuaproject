{
 "cells": [
  {
   "cell_type": "code",
   "execution_count": null,
   "metadata": {},
   "outputs": [],
   "source": [
    "# default_exp url"
   ]
  },
  {
   "cell_type": "code",
   "execution_count": null,
   "metadata": {},
   "outputs": [],
   "source": [
    "# export\n",
    "import urllib3\n",
    "from urllib3.util.url import Url\n",
    "import certifi\n",
    "import json\n",
    "from functools import partial\n",
    "from datetime import date\n",
    "from fastcore.test import *"
   ]
  },
  {
   "cell_type": "code",
   "execution_count": null,
   "metadata": {},
   "outputs": [],
   "source": [
    "from nbdev.showdoc import *"
   ]
  },
  {
   "cell_type": "markdown",
   "metadata": {},
   "source": [
    "# URL Functions\n",
    "> `url` module of the library. Functions related to URL construction\n",
    "\n",
    "[Joshua Project](https://joshuaproject.net/) via [APIv2](https://joshuaproject.net/resources/datasets)"
   ]
  },
  {
   "cell_type": "markdown",
   "metadata": {},
   "source": [
    "## URL Construction Functions"
   ]
  },
  {
   "cell_type": "code",
   "execution_count": null,
   "metadata": {},
   "outputs": [],
   "source": [
    "# export\n",
    "api_key='your_api_key' # 'w3NOS49TW7fg'"
   ]
  },
  {
   "cell_type": "code",
   "execution_count": null,
   "metadata": {},
   "outputs": [],
   "source": [
    "# export\n",
    "def url_path_query(path:str,cntry:str=None,pgid:str=None,lang=None,extra=None,month=None,day=None,api_key=api_key)->str:\n",
    "    \"\"\"Builds and returns a string url to query `path` for `cntry` \n",
    "    with optional `pgid`,`extra`,`month` and `day`.\"\"\"\n",
    "    query = ''\n",
    "    if cntry is not None: query = query+'ROG3='+str(cntry)\n",
    "    if pgid  is not None: query = query+'&PeopleID3='+str(pgid)\n",
    "    if lang  is not None: query = query+'&ROL3='+str(lang)\n",
    "    if extra is not None: query = query+'&'+str(extra)\n",
    "    if 'upgotd' in path:\n",
    "        today = date.today()\n",
    "        if isinstance(day,  int):   day=str(day)\n",
    "        if isinstance(month,int): month=str(month)\n",
    "        if day is None:   day   = today.strftime(\"%-d\")\n",
    "        if month is None: month = today.strftime(\"%-m\")\n",
    "        query = query+'&LRofTheDayMonth='+month\n",
    "        query = query+'&LRofTheDayDay='  +day\n",
    "    query = query+'&api_key='+api_key\n",
    "    return Url(scheme='https', host='joshuaproject.net', path=path, query=query).url"
   ]
  },
  {
   "cell_type": "code",
   "execution_count": null,
   "metadata": {},
   "outputs": [
    {
     "data": {
      "text/markdown": [
       "<h4 id=\"url_path_query\" class=\"doc_header\"><code>url_path_query</code><a href=\"__main__.py#L2\" class=\"source_link\" style=\"float:right\">[source]</a></h4>\n",
       "\n",
       "> <code>url_path_query</code>(**`path`**:`str`, **`cntry`**:`str`=*`None`*, **`pgid`**:`str`=*`None`*, **`lang`**=*`None`*, **`extra`**=*`None`*, **`month`**=*`None`*, **`day`**=*`None`*, **`api_key`**=*`'your_api_key'`*)\n",
       "\n",
       "Builds and returns a string url to query `path` for `cntry` \n",
       "with optional `pgid`,`extra`,`month` and `day`."
      ],
      "text/plain": [
       "<IPython.core.display.Markdown object>"
      ]
     },
     "metadata": {},
     "output_type": "display_data"
    }
   ],
   "source": [
    "show_doc(url_path_query)"
   ]
  },
  {
   "cell_type": "markdown",
   "metadata": {},
   "source": [
    "`url_path_query` is a **generic low-level** function. It requires specification of required `path` and if used without other specific arguments, returns over 17000 records.\n",
    "\n",
    "`cntry` is a two-letter country code as was specified in FIPS 10-4 (US Federal Information Processing Standard), which is now absolete a bit differs from the international ISO 3166 standard. See details.\n",
    "\n",
    "The library provides a helper function to work around the current ambiguity.\n",
    "\n",
    "`pgid` is a string with people group id.\n",
    "\n",
    "`extra` is an *optional* argument in a form `field=value`, for example: `'LeastReached=Y'`\n",
    "\n",
    "`month` and `day` are *optional* arguments of type `int` or `str` used in `url_upgotd` to specify the date for which to request the unreached people group. If either is omitted, the value of the current date is used. If `int` values are passed, these are coverted to proper `str`."
   ]
  },
  {
   "cell_type": "code",
   "execution_count": null,
   "metadata": {},
   "outputs": [],
   "source": [
    "test_eq(url_path_query('/api/v2/people_groups'),\n",
    "        f'https://joshuaproject.net/api/v2/people_groups?&api_key={api_key}')"
   ]
  },
  {
   "cell_type": "markdown",
   "metadata": {},
   "source": [
    "`url_path_query` is a generic function. More specific functions are described below."
   ]
  },
  {
   "cell_type": "code",
   "execution_count": null,
   "metadata": {},
   "outputs": [],
   "source": [
    "# export\n",
    "url_upgotd = partial(url_path_query,'/api/v2/upgotd')\n",
    "url_upgotd.__doc__ = \"\"\"Get data for the Unreached People Group of the Day.\"\"\""
   ]
  },
  {
   "cell_type": "code",
   "execution_count": null,
   "metadata": {},
   "outputs": [
    {
     "data": {
      "text/markdown": [
       "<h4 id=\"url_upgotd\" class=\"doc_header\"><code>url_upgotd</code><a href=\"\" class=\"source_link\" style=\"float:right\">[source]</a></h4>\n",
       "\n",
       "> <code>url_upgotd</code>(**`cntry`**:`str`=*`None`*, **`pgid`**:`str`=*`None`*, **`lang`**=*`None`*, **`extra`**=*`None`*, **`month`**=*`None`*, **`day`**=*`None`*, **`api_key`**=*`'your_api_key'`*)\n",
       "\n",
       "Get data for the Unreached People Group of the Day."
      ],
      "text/plain": [
       "<IPython.core.display.Markdown object>"
      ]
     },
     "metadata": {},
     "output_type": "display_data"
    }
   ],
   "source": [
    "show_doc(url_upgotd,name='url_upgotd')"
   ]
  },
  {
   "cell_type": "code",
   "execution_count": null,
   "metadata": {},
   "outputs": [],
   "source": [
    "m,d = date.today().strftime(\"%-m\"),date.today().strftime(\"%-d\")\n",
    "\n",
    "# Today\n",
    "test_eq( url_upgotd(),\n",
    "    f'https://joshuaproject.net/api/v2/upgotd?&LRofTheDayMonth={m}&LRofTheDayDay={d}&api_key={api_key}')\n",
    "\n",
    "# Any `month` and `day`\n",
    "test_eq( url_upgotd(month=10,day=1),\n",
    "    f'https://joshuaproject.net/api/v2/upgotd?&LRofTheDayMonth=10&LRofTheDayDay=1&api_key={api_key}')\n",
    "\n",
    "# Current month, specific `day`\n",
    "test_eq( url_upgotd(day='15'),\n",
    "    f'https://joshuaproject.net/api/v2/upgotd?&LRofTheDayMonth={m}&LRofTheDayDay={15}&api_key={api_key}')"
   ]
  },
  {
   "cell_type": "code",
   "execution_count": null,
   "metadata": {},
   "outputs": [],
   "source": [
    "# export\n",
    "url_pgs_cntry = partial(url_path_query,'/api/v2/people_groups')\n",
    "url_pgs_cntry.__doc__ = \"\"\"Get all people groups in a specific `cntry` country.\"\"\""
   ]
  },
  {
   "cell_type": "code",
   "execution_count": null,
   "metadata": {},
   "outputs": [
    {
     "data": {
      "text/markdown": [
       "<h4 id=\"url_pgs_cntry\" class=\"doc_header\"><code>url_pgs_cntry</code><a href=\"\" class=\"source_link\" style=\"float:right\">[source]</a></h4>\n",
       "\n",
       "> <code>url_pgs_cntry</code>(**`cntry`**:`str`=*`None`*, **`pgid`**:`str`=*`None`*, **`lang`**=*`None`*, **`extra`**=*`None`*, **`month`**=*`None`*, **`day`**=*`None`*, **`api_key`**=*`'your_api_key'`*)\n",
       "\n",
       "Get all people groups in a specific `cntry` country."
      ],
      "text/plain": [
       "<IPython.core.display.Markdown object>"
      ]
     },
     "metadata": {},
     "output_type": "display_data"
    }
   ],
   "source": [
    "show_doc(url_pgs_cntry,name='url_pgs_cntry')"
   ]
  },
  {
   "cell_type": "markdown",
   "metadata": {},
   "source": [
    "**Note**, since `cntry` is the first positional argument, it can be passed by value only."
   ]
  },
  {
   "cell_type": "code",
   "execution_count": null,
   "metadata": {},
   "outputs": [],
   "source": [
    "country = 'EN'\n",
    "test_eq(url_pgs_cntry(country),\n",
    "    f'https://joshuaproject.net/api/v2/people_groups?ROG3={country}&api_key={api_key}')"
   ]
  },
  {
   "cell_type": "code",
   "execution_count": null,
   "metadata": {},
   "outputs": [],
   "source": [
    "# export\n",
    "url_upgs_cntry = partial(url_pgs_cntry,extra='LeastReached=Y')\n",
    "url_upgs_cntry.__doc__ = \"\"\"Get all unreached people groups in a specific `cntry` country.\"\"\""
   ]
  },
  {
   "cell_type": "code",
   "execution_count": null,
   "metadata": {},
   "outputs": [
    {
     "data": {
      "text/markdown": [
       "<h4 id=\"url_upgs_cntry\" class=\"doc_header\"><code>url_upgs_cntry</code><a href=\"\" class=\"source_link\" style=\"float:right\">[source]</a></h4>\n",
       "\n",
       "> <code>url_upgs_cntry</code>(**`cntry`**:`str`=*`None`*, **`pgid`**:`str`=*`None`*, **`lang`**=*`None`*, **`extra`**=*`'LeastReached=Y'`*, **`month`**=*`None`*, **`day`**=*`None`*, **`api_key`**=*`'your_api_key'`*)\n",
       "\n",
       "Get all unreached people groups in a specific `cntry` country."
      ],
      "text/plain": [
       "<IPython.core.display.Markdown object>"
      ]
     },
     "metadata": {},
     "output_type": "display_data"
    }
   ],
   "source": [
    "show_doc(url_upgs_cntry,name='url_upgs_cntry')"
   ]
  },
  {
   "cell_type": "code",
   "execution_count": null,
   "metadata": {},
   "outputs": [],
   "source": [
    "country='IN'\n",
    "test_eq(url_upgs_cntry(country),\n",
    "    f'https://joshuaproject.net/api/v2/people_groups?ROG3={country}&LeastReached=Y&api_key={api_key}')"
   ]
  },
  {
   "cell_type": "code",
   "execution_count": null,
   "metadata": {},
   "outputs": [],
   "source": [
    "# export\n",
    "url_pg_cntry = partial(url_pgs_cntry)\n",
    "url_pg_cntry.__doc__ = \"\"\"Get a specific people group in a specific `cntry` country.\"\"\""
   ]
  },
  {
   "cell_type": "code",
   "execution_count": null,
   "metadata": {},
   "outputs": [
    {
     "data": {
      "text/markdown": [
       "<h4 id=\"url_pg_cntry\" class=\"doc_header\"><code>url_pg_cntry</code><a href=\"\" class=\"source_link\" style=\"float:right\">[source]</a></h4>\n",
       "\n",
       "> <code>url_pg_cntry</code>(**`cntry`**:`str`=*`None`*, **`pgid`**:`str`=*`None`*, **`lang`**=*`None`*, **`extra`**=*`None`*, **`month`**=*`None`*, **`day`**=*`None`*, **`api_key`**=*`'your_api_key'`*)\n",
       "\n",
       "Get a specific people group in a specific `cntry` country."
      ],
      "text/plain": [
       "<IPython.core.display.Markdown object>"
      ]
     },
     "metadata": {},
     "output_type": "display_data"
    }
   ],
   "source": [
    "show_doc(url_pg_cntry,name='url_pg_cntry')"
   ]
  },
  {
   "cell_type": "code",
   "execution_count": null,
   "metadata": {},
   "outputs": [],
   "source": [
    "country='RS'\n",
    "test_eq(url_pg_cntry(cntry=country),\n",
    "    f'https://joshuaproject.net/api/v2/people_groups?ROG3={country}&api_key={api_key}')"
   ]
  },
  {
   "cell_type": "code",
   "execution_count": null,
   "metadata": {},
   "outputs": [],
   "source": [
    "# export\n",
    "url_pg_cntries = partial(url_pgs_cntry)\n",
    "url_pg_cntries.__doc__ = \"\"\"Get all countries a specific `pgid` people group lives in\"\"\""
   ]
  },
  {
   "cell_type": "markdown",
   "metadata": {},
   "source": [
    "People group is to be encoded as `PeopleID3` -- People-Group-Across-Countries ID number."
   ]
  },
  {
   "cell_type": "code",
   "execution_count": null,
   "metadata": {},
   "outputs": [
    {
     "data": {
      "text/markdown": [
       "<h4 id=\"url_pg_cntries\" class=\"doc_header\"><code>url_pg_cntries</code><a href=\"\" class=\"source_link\" style=\"float:right\">[source]</a></h4>\n",
       "\n",
       "> <code>url_pg_cntries</code>(**`cntry`**:`str`=*`None`*, **`pgid`**:`str`=*`None`*, **`lang`**=*`None`*, **`extra`**=*`None`*, **`month`**=*`None`*, **`day`**=*`None`*, **`api_key`**=*`'your_api_key'`*)\n",
       "\n",
       "Get all countries a specific `pgid` people group lives in"
      ],
      "text/plain": [
       "<IPython.core.display.Markdown object>"
      ]
     },
     "metadata": {},
     "output_type": "display_data"
    }
   ],
   "source": [
    "show_doc(url_pg_cntries,name='url_pg_cntries')"
   ]
  },
  {
   "cell_type": "code",
   "execution_count": null,
   "metadata": {},
   "outputs": [],
   "source": [
    "pgid=18859\n",
    "test_eq(url_pg_cntries(pgid=pgid),\n",
    "    f'https://joshuaproject.net/api/v2/people_groups?&PeopleID3={pgid}&api_key={api_key}')"
   ]
  },
  {
   "cell_type": "code",
   "execution_count": null,
   "metadata": {},
   "outputs": [],
   "source": [
    "# export\n",
    "url_cntry = partial(url_path_query,'/api/v2/countries')\n",
    "url_cntry.__doc__ = \"\"\"Get summary data for `cntry`.\"\"\""
   ]
  },
  {
   "cell_type": "code",
   "execution_count": null,
   "metadata": {},
   "outputs": [
    {
     "data": {
      "text/markdown": [
       "<h4 id=\"url_cntry\" class=\"doc_header\"><code>url_cntry</code><a href=\"\" class=\"source_link\" style=\"float:right\">[source]</a></h4>\n",
       "\n",
       "> <code>url_cntry</code>(**`cntry`**:`str`=*`None`*, **`pgid`**:`str`=*`None`*, **`lang`**=*`None`*, **`extra`**=*`None`*, **`month`**=*`None`*, **`day`**=*`None`*, **`api_key`**=*`'your_api_key'`*)\n",
       "\n",
       "Get summary data for `cntry`."
      ],
      "text/plain": [
       "<IPython.core.display.Markdown object>"
      ]
     },
     "metadata": {},
     "output_type": "display_data"
    }
   ],
   "source": [
    "show_doc(url_cntry,name='url_cntry')"
   ]
  },
  {
   "cell_type": "code",
   "execution_count": null,
   "metadata": {},
   "outputs": [],
   "source": [
    "country = 'BD'\n",
    "test_eq(url_cntry(country),\n",
    "    f'https://joshuaproject.net/api/v2/countries?ROG3={country}&api_key={api_key}')"
   ]
  },
  {
   "cell_type": "code",
   "execution_count": null,
   "metadata": {},
   "outputs": [],
   "source": [
    "# export\n",
    "url_lang = partial(url_path_query,'/api/v2/languages')\n",
    "url_lang.__doc__ = \"\"\"Get summary data for `lang` language.\"\"\""
   ]
  },
  {
   "cell_type": "code",
   "execution_count": null,
   "metadata": {},
   "outputs": [
    {
     "data": {
      "text/markdown": [
       "<h4 id=\"url_lang\" class=\"doc_header\"><code>url_lang</code><a href=\"\" class=\"source_link\" style=\"float:right\">[source]</a></h4>\n",
       "\n",
       "> <code>url_lang</code>(**`cntry`**:`str`=*`None`*, **`pgid`**:`str`=*`None`*, **`lang`**=*`None`*, **`extra`**=*`None`*, **`month`**=*`None`*, **`day`**=*`None`*, **`api_key`**=*`'your_api_key'`*)\n",
       "\n",
       "Get summary data for `lang` language."
      ],
      "text/plain": [
       "<IPython.core.display.Markdown object>"
      ]
     },
     "metadata": {},
     "output_type": "display_data"
    }
   ],
   "source": [
    "show_doc(url_lang,name='url_lang')"
   ]
  },
  {
   "cell_type": "markdown",
   "metadata": {},
   "source": [
    "Language argument is a three letter code: https://www.ethnologue.com/codes.\n",
    "\n",
    "https://www.ethnologue.com/codes/download-code-tables"
   ]
  },
  {
   "cell_type": "code",
   "execution_count": null,
   "metadata": {},
   "outputs": [],
   "source": [
    "lang='hau'\n",
    "test_eq(url_lang(lang=lang),\n",
    "    f'https://joshuaproject.net/api/v2/languages?&ROL3={lang}&api_key={api_key}')"
   ]
  },
  {
   "cell_type": "markdown",
   "metadata": {},
   "source": [
    "## Export -"
   ]
  },
  {
   "cell_type": "code",
   "execution_count": null,
   "metadata": {},
   "outputs": [
    {
     "name": "stdout",
     "output_type": "stream",
     "text": [
      "Converted 00_url.ipynb.\n",
      "Converted 01_countrycodes.ipynb.\n",
      "Converted Untitled.ipynb.\n",
      "Converted index.ipynb.\n"
     ]
    }
   ],
   "source": [
    "#hide\n",
    "from nbdev.export import notebook2script\n",
    "notebook2script()"
   ]
  },
  {
   "cell_type": "code",
   "execution_count": null,
   "metadata": {},
   "outputs": [],
   "source": []
  }
 ],
 "metadata": {
  "kernelspec": {
   "display_name": "Python 3",
   "language": "python",
   "name": "python3"
  }
 },
 "nbformat": 4,
 "nbformat_minor": 2
}
