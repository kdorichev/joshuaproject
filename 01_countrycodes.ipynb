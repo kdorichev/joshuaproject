{
 "cells": [
  {
   "cell_type": "code",
   "execution_count": 1,
   "metadata": {},
   "outputs": [],
   "source": [
    "# default_exp countrycodes"
   ]
  },
  {
   "cell_type": "markdown",
   "metadata": {},
   "source": [
    "# Country Codes\n",
    "> Class `CountryCodes()` to search and convert between `iso` and `fips` country codes."
   ]
  },
  {
   "cell_type": "code",
   "execution_count": 22,
   "metadata": {},
   "outputs": [],
   "source": [
    "# export\n",
    "import pandas as pd\n",
    "from fastcore.test import *"
   ]
  },
  {
   "cell_type": "code",
   "execution_count": 23,
   "metadata": {},
   "outputs": [],
   "source": [
    "#hide\n",
    "from nbdev.showdoc import *"
   ]
  },
  {
   "cell_type": "code",
   "execution_count": 4,
   "metadata": {},
   "outputs": [],
   "source": [
    "# export\n",
    "class CountryCodes():\n",
    "    \"\"\"Returns FIPS and ISO 3166 alpha 2 country codes  for `cname` and converts between.\"\"\"\n",
    "    def __init__(self):\n",
    "        self.data = pd.read_csv('data/country_codes.csv',skiprows=3,names=['cname','FIPS','ISO'])\n",
    "    \n",
    "    def __len__(self): \n",
    "        \"\"\"Returns lenth of `data`.\"\"\"\n",
    "        return len(self.data)\n",
    "    \n",
    "    def __repr__(self): \n",
    "        \"\"\"Returns a `str` representing the `data`.\"\"\"\n",
    "        return f'{self.data.to_string(max_rows=None)}'\n",
    "    \n",
    "    def head(self,rows=10): \n",
    "        \"\"\"Returns first `rows`.\"\"\"\n",
    "        return self.data.head(rows)\n",
    "    \n",
    "    def tail(self,rows=10): \n",
    "        \"\"\"Returns last `rows`.\"\"\"\n",
    "        return self.data.tail(rows)\n",
    "    \n",
    "    def __getitem__(self,idx): \n",
    "        \"\"\"Return `idx`th element of data.\"\"\"\n",
    "        return self.data.iloc[idx]\n",
    "      \n",
    "    def like(self,cname:str,max:int=None)->list:\n",
    "        \"\"\"Returns a list of dict with `max` entries with country name like `cname`.\"\"\"\n",
    "        res = self.data[self.data['cname'].str.contains(cname)].to_dict(orient='record')\n",
    "        if len(res) == 0: return []\n",
    "        if (max is not None) and (len(res) > max): \n",
    "            assert max >0, \"CountryCodes().like: `max` argument must be positive or `None`.\"\n",
    "            return res[:max]\n",
    "        return res\n",
    "    \n",
    "    def __call__(self,cname:str)->str:\n",
    "        \"\"\"Returns `fips` code of `cname`.\"\"\"\n",
    "        return self.like(cname,max=1)[0]['FIPS']\n",
    "    \n",
    "    def fips(self,cname:str)->str:\n",
    "        \"\"\"Returns `fips` code of `cname`.\"\"\"\n",
    "        return self.__call__(cname)\n",
    "    \n",
    "    def iso(self,cname:str)->str:\n",
    "        \"\"\"Returns `iso` code of `cname`.\"\"\"\n",
    "        return self.like(cname,max=1)[0]['ISO']\n",
    "    \n",
    "    def name(self,cname:str)->str:\n",
    "        \"\"\"Returns a `str` of the first of country name like `cname`.\"\"\"\n",
    "        return self.like(cname,max=1)[0]['cname']    "
   ]
  },
  {
   "cell_type": "code",
   "execution_count": 5,
   "metadata": {},
   "outputs": [
    {
     "data": {
      "text/markdown": [
       "<h2 id=\"CountryCodes\" class=\"doc_header\"><code>class</code> <code>CountryCodes</code><a href=\"\" class=\"source_link\" style=\"float:right\">[source]</a></h2>\n",
       "\n",
       "> <code>CountryCodes</code>()\n",
       "\n",
       "Returns FIPS and ISO 3166 alpha 2 country codes  for `cname` and converts between."
      ],
      "text/plain": [
       "<IPython.core.display.Markdown object>"
      ]
     },
     "metadata": {},
     "output_type": "display_data"
    }
   ],
   "source": [
    "show_doc(CountryCodes)"
   ]
  },
  {
   "cell_type": "code",
   "execution_count": 6,
   "metadata": {},
   "outputs": [],
   "source": [
    "cc = CountryCodes()"
   ]
  },
  {
   "cell_type": "code",
   "execution_count": 7,
   "metadata": {},
   "outputs": [
    {
     "data": {
      "text/markdown": [
       "<h4 id=\"CountryCodes.__len__\" class=\"doc_header\"><code>CountryCodes.__len__</code><a href=\"__main__.py#L7\" class=\"source_link\" style=\"float:right\">[source]</a></h4>\n",
       "\n",
       "> <code>CountryCodes.__len__</code>()\n",
       "\n",
       "Returns lenth of `data`."
      ],
      "text/plain": [
       "<IPython.core.display.Markdown object>"
      ]
     },
     "metadata": {},
     "output_type": "display_data"
    }
   ],
   "source": [
    "show_doc(CountryCodes().__len__)"
   ]
  },
  {
   "cell_type": "code",
   "execution_count": 8,
   "metadata": {},
   "outputs": [
    {
     "data": {
      "text/plain": [
       "249"
      ]
     },
     "execution_count": 8,
     "metadata": {},
     "output_type": "execute_result"
    }
   ],
   "source": [
    "test_eq(len(cc),len(cc.data))\n",
    "len(cc)"
   ]
  },
  {
   "cell_type": "code",
   "execution_count": 9,
   "metadata": {},
   "outputs": [
    {
     "data": {
      "text/markdown": [
       "<h4 id=\"CountryCodes.head\" class=\"doc_header\"><code>CountryCodes.head</code><a href=\"__main__.py#L15\" class=\"source_link\" style=\"float:right\">[source]</a></h4>\n",
       "\n",
       "> <code>CountryCodes.head</code>(**`rows`**=*`10`*)\n",
       "\n",
       "Returns first `rows`."
      ],
      "text/plain": [
       "<IPython.core.display.Markdown object>"
      ]
     },
     "metadata": {},
     "output_type": "display_data"
    }
   ],
   "source": [
    "show_doc(CountryCodes().head)"
   ]
  },
  {
   "cell_type": "code",
   "execution_count": 10,
   "metadata": {},
   "outputs": [
    {
     "data": {
      "text/markdown": [
       "<h4 id=\"CountryCodes.tail\" class=\"doc_header\"><code>CountryCodes.tail</code><a href=\"__main__.py#L19\" class=\"source_link\" style=\"float:right\">[source]</a></h4>\n",
       "\n",
       "> <code>CountryCodes.tail</code>(**`rows`**=*`10`*)\n",
       "\n",
       "Returns last `rows`."
      ],
      "text/plain": [
       "<IPython.core.display.Markdown object>"
      ]
     },
     "metadata": {},
     "output_type": "display_data"
    }
   ],
   "source": [
    "show_doc(CountryCodes().tail)"
   ]
  },
  {
   "cell_type": "code",
   "execution_count": 11,
   "metadata": {},
   "outputs": [
    {
     "data": {
      "text/markdown": [
       "<h4 id=\"CountryCodes.__getitem__\" class=\"doc_header\"><code>CountryCodes.__getitem__</code><a href=\"__main__.py#L23\" class=\"source_link\" style=\"float:right\">[source]</a></h4>\n",
       "\n",
       "> <code>CountryCodes.__getitem__</code>(**`idx`**)\n",
       "\n",
       "Return `idx`th element of data."
      ],
      "text/plain": [
       "<IPython.core.display.Markdown object>"
      ]
     },
     "metadata": {},
     "output_type": "display_data"
    }
   ],
   "source": [
    "show_doc(CountryCodes().__getitem__)"
   ]
  },
  {
   "cell_type": "code",
   "execution_count": 12,
   "metadata": {
    "scrolled": true
   },
   "outputs": [
    {
     "data": {
      "text/plain": [
       "cname    Iceland\n",
       "FIPS          IC\n",
       "ISO           IS\n",
       "Name: 101, dtype: object"
      ]
     },
     "execution_count": 12,
     "metadata": {},
     "output_type": "execute_result"
    }
   ],
   "source": [
    "cc[101]"
   ]
  },
  {
   "cell_type": "code",
   "execution_count": 13,
   "metadata": {},
   "outputs": [],
   "source": [
    "test_eq(cc[101].cname, 'Iceland')\n",
    "test_eq(cc[101].FIPS,'IC')\n",
    "test_eq(cc[101].ISO, 'IS')"
   ]
  },
  {
   "cell_type": "code",
   "execution_count": 14,
   "metadata": {},
   "outputs": [
    {
     "data": {
      "text/markdown": [
       "<h4 id=\"CountryCodes.like\" class=\"doc_header\"><code>CountryCodes.like</code><a href=\"__main__.py#L27\" class=\"source_link\" style=\"float:right\">[source]</a></h4>\n",
       "\n",
       "> <code>CountryCodes.like</code>(**`cname`**:`str`, **`max`**:`int`=*`None`*)\n",
       "\n",
       "Returns a list of dict with `max` entries with country name like `cname`."
      ],
      "text/plain": [
       "<IPython.core.display.Markdown object>"
      ]
     },
     "metadata": {},
     "output_type": "display_data"
    }
   ],
   "source": [
    "show_doc(CountryCodes().like)"
   ]
  },
  {
   "cell_type": "code",
   "execution_count": 15,
   "metadata": {},
   "outputs": [
    {
     "data": {
      "text/plain": [
       "[{'cname': 'Tanzania, United Republic of', 'FIPS': 'TZ', 'ISO': 'TZ'},\n",
       " {'cname': 'United Arab Emirates', 'FIPS': 'AE', 'ISO': 'AE'},\n",
       " {'cname': 'United Kingdom', 'FIPS': 'UK', 'ISO': 'GB'},\n",
       " {'cname': 'United States', 'FIPS': 'US', 'ISO': 'US'},\n",
       " {'cname': 'United States Minor Outlying Islands', 'FIPS': nan, 'ISO': 'UM'}]"
      ]
     },
     "execution_count": 15,
     "metadata": {},
     "output_type": "execute_result"
    }
   ],
   "source": [
    "cc.like('United')"
   ]
  },
  {
   "cell_type": "code",
   "execution_count": 16,
   "metadata": {},
   "outputs": [
    {
     "data": {
      "text/plain": [
       "[{'cname': 'Tanzania, United Republic of', 'FIPS': 'TZ', 'ISO': 'TZ'},\n",
       " {'cname': 'United Arab Emirates', 'FIPS': 'AE', 'ISO': 'AE'}]"
      ]
     },
     "execution_count": 16,
     "metadata": {},
     "output_type": "execute_result"
    }
   ],
   "source": [
    "cc.like('United',2)"
   ]
  },
  {
   "cell_type": "code",
   "execution_count": 17,
   "metadata": {
    "scrolled": false
   },
   "outputs": [
    {
     "data": {
      "text/markdown": [
       "<h4 id=\"CountryCodes.iso\" class=\"doc_header\"><code>CountryCodes.iso</code><a href=\"__main__.py#L44\" class=\"source_link\" style=\"float:right\">[source]</a></h4>\n",
       "\n",
       "> <code>CountryCodes.iso</code>(**`cname`**:`str`)\n",
       "\n",
       "Returns `iso` code of `cname`."
      ],
      "text/plain": [
       "<IPython.core.display.Markdown object>"
      ]
     },
     "metadata": {},
     "output_type": "display_data"
    }
   ],
   "source": [
    "show_doc(CountryCodes.iso)"
   ]
  },
  {
   "cell_type": "code",
   "execution_count": 18,
   "metadata": {},
   "outputs": [],
   "source": [
    "test_eq(cc.iso('Russia'),'RU')"
   ]
  },
  {
   "cell_type": "code",
   "execution_count": 19,
   "metadata": {
    "scrolled": false
   },
   "outputs": [
    {
     "data": {
      "text/markdown": [
       "<h4 id=\"CountryCodes.fips\" class=\"doc_header\"><code>CountryCodes.fips</code><a href=\"__main__.py#L40\" class=\"source_link\" style=\"float:right\">[source]</a></h4>\n",
       "\n",
       "> <code>CountryCodes.fips</code>(**`cname`**:`str`)\n",
       "\n",
       "Returns `fips` code of `cname`."
      ],
      "text/plain": [
       "<IPython.core.display.Markdown object>"
      ]
     },
     "metadata": {},
     "output_type": "display_data"
    }
   ],
   "source": [
    "show_doc(CountryCodes.fips)"
   ]
  },
  {
   "cell_type": "code",
   "execution_count": 20,
   "metadata": {
    "scrolled": true
   },
   "outputs": [],
   "source": [
    "test_eq(cc.fips('Russia'),'RS')\n",
    "test_eq(cc('Russia'),'RS')"
   ]
  },
  {
   "cell_type": "markdown",
   "metadata": {},
   "source": [
    "## Export -"
   ]
  },
  {
   "cell_type": "code",
   "execution_count": 21,
   "metadata": {},
   "outputs": [
    {
     "name": "stdout",
     "output_type": "stream",
     "text": [
      "Converted 00_core.ipynb.\n",
      "Converted 01_countrycodes.ipynb.\n",
      "Converted Untitled.ipynb.\n",
      "Converted index.ipynb.\n"
     ]
    }
   ],
   "source": [
    "#hide\n",
    "from nbdev.export import notebook2script\n",
    "notebook2script()"
   ]
  }
 ],
 "metadata": {
  "kernelspec": {
   "display_name": "Python 3",
   "language": "python",
   "name": "python3"
  },
  "language_info": {
   "codemirror_mode": {
    "name": "ipython",
    "version": 3
   },
   "file_extension": ".py",
   "mimetype": "text/x-python",
   "name": "python",
   "nbconvert_exporter": "python",
   "pygments_lexer": "ipython3",
   "version": "3.7.3"
  }
 },
 "nbformat": 4,
 "nbformat_minor": 2
}
