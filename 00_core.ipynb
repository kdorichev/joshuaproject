{
 "cells": [
  {
   "cell_type": "code",
   "execution_count": 1,
   "metadata": {},
   "outputs": [],
   "source": [
    "# default_exp core"
   ]
  },
  {
   "cell_type": "markdown",
   "metadata": {},
   "source": [
    "# Core Functions\n",
    "> Python library to access online data from the Joshua Project via APIv2\n",
    "\n",
    "[Joshua Project](https://joshuaproject.net/) via [APIv2](https://joshuaproject.net/resources/datasets)"
   ]
  },
  {
   "cell_type": "code",
   "execution_count": 2,
   "metadata": {},
   "outputs": [],
   "source": [
    "# export\n",
    "import urllib3\n",
    "from urllib3.util.url import Url\n",
    "import certifi\n",
    "import json\n",
    "from functools import partial\n",
    "from datetime import date\n",
    "from fastcore.test import *"
   ]
  },
  {
   "cell_type": "code",
   "execution_count": 3,
   "metadata": {},
   "outputs": [],
   "source": [
    "#hide\n",
    "from nbdev.showdoc import *"
   ]
  },
  {
   "cell_type": "markdown",
   "metadata": {},
   "source": [
    "## URL Construction Functions"
   ]
  },
  {
   "cell_type": "code",
   "execution_count": 4,
   "metadata": {},
   "outputs": [],
   "source": [
    "# export\n",
    "api_key='your_api_key' #'w3NOS49TW7fg'"
   ]
  },
  {
   "cell_type": "code",
   "execution_count": 5,
   "metadata": {},
   "outputs": [],
   "source": [
    "# export\n",
    "def url_path_query(path:str,cntry:str=None,pgid:str=None,extra=None,month=None,day=None,api_key='your_api_key')->str:\n",
    "    \"\"\"Builds and returns a string url to query `path` for `cntry` \n",
    "    with optional `pgid`,`extra`,`month` and `day`.\"\"\"\n",
    "    query = ''\n",
    "    if cntry is not None: query = query+'ROG3='+str(cntry)\n",
    "    if pgid  is not None: query = query+'&PeopleID3='+str(pgid)\n",
    "    if extra is not None: query = query+'&'+str(extra)\n",
    "    if 'upgotd' in path:\n",
    "        today = date.today()\n",
    "        if isinstance(day,  int):   day=str(day)\n",
    "        if isinstance(month,int): month=str(month)\n",
    "        if day is None:   day   = today.strftime(\"%-d\")\n",
    "        if month is None: month = today.strftime(\"%-m\")\n",
    "        query = query+'&LRofTheDayMonth='+month\n",
    "        query = query+'&LRofTheDayDay='  +day\n",
    "    query = query+'&api_key='+api_key\n",
    "    return Url(scheme='https', host='joshuaproject.net', path=path, query=query).url"
   ]
  },
  {
   "cell_type": "code",
   "execution_count": 6,
   "metadata": {
    "scrolled": true
   },
   "outputs": [
    {
     "data": {
      "text/markdown": [
       "<h3 id=\"url_path_query\" class=\"doc_header\"><code>url_path_query</code><a href=\"__main__.py#L2\" class=\"source_link\" style=\"float:right\">[source]</a></h3>\n",
       "\n",
       "> <code>url_path_query</code>(**`path`**:`str`, **`cntry`**:`str`=*`None`*, **`pgid`**:`str`=*`None`*, **`extra`**=*`None`*, **`month`**=*`None`*, **`day`**=*`None`*, **`api_key`**=*`'your_api_key'`*)\n",
       "\n",
       "Builds and returns a string url to query `path` for `cntry` \n",
       "with optional `pgid`,`extra`,`month` and `day`."
      ],
      "text/plain": [
       "<IPython.core.display.Markdown object>"
      ]
     },
     "metadata": {},
     "output_type": "display_data"
    }
   ],
   "source": [
    "show_doc(url_path_query,title_level=3)"
   ]
  },
  {
   "cell_type": "markdown",
   "metadata": {},
   "source": [
    "`url_path_query` is a **generic low-level** function. It requires specification of required `path` and if used without other specific arguments, returns over 17000 records.\n",
    "\n",
    "`cntry` is a two-letter country code as was specified in FIPS 10-4 (US Federal Information Processing Standard), which is now absolete a bit differs from the international ISO 3166 standard. See details.\n",
    "\n",
    "The library provides a helper function to work around the current ambiguity.\n",
    "\n",
    "`pgid` is a string with people group id.\n",
    "\n",
    "`extra` is an *optional* argument in a form `field=value`, for example: `'LeastReached=Y'`\n",
    "\n",
    "`month` and `day` are *optional* arguments of type `int` used in `url_upgotd` to specify the date for which to request the unreached people group. If either is omitted, the value of the current date is used. If `int` values are passed, these are coverted to proper `str`."
   ]
  },
  {
   "cell_type": "code",
   "execution_count": 7,
   "metadata": {},
   "outputs": [],
   "source": [
    "test_eq(url_path_query('/api/v2/people_groups'),\n",
    "        f'https://joshuaproject.net/api/v2/people_groups?&api_key={api_key}')"
   ]
  },
  {
   "cell_type": "markdown",
   "metadata": {},
   "source": [
    "### url_upgotd -- Unreached People Group of the Day"
   ]
  },
  {
   "cell_type": "code",
   "execution_count": 8,
   "metadata": {},
   "outputs": [],
   "source": [
    "# export\n",
    "url_upgotd = partial(url_path_query,'/api/v2/upgotd')\n",
    "url_upgotd.__doc__ = \"\"\"Get data for the UPG of the day.\"\"\""
   ]
  },
  {
   "cell_type": "code",
   "execution_count": 9,
   "metadata": {},
   "outputs": [],
   "source": [
    "m,d = date.today().strftime(\"%-m\"),date.today().strftime(\"%-d\")\n",
    "test_eq(\n",
    "    url_upgotd(),\n",
    "    f'https://joshuaproject.net/api/v2/upgotd?&LRofTheDayMonth={m}&LRofTheDayDay={d}&api_key={api_key}')"
   ]
  },
  {
   "cell_type": "code",
   "execution_count": 10,
   "metadata": {},
   "outputs": [],
   "source": [
    "# hide\n",
    "test_eq(\n",
    "    url_upgotd(month=10,day=1),\n",
    "    f'https://joshuaproject.net/api/v2/upgotd?&LRofTheDayMonth=10&LRofTheDayDay=1&api_key={api_key}')\n",
    "\n",
    "m = date.today().strftime(\"%-m\")\n",
    "test_eq(\n",
    "    url_upgotd(day='15'),\n",
    "    f'https://joshuaproject.net/api/v2/upgotd?&LRofTheDayMonth={m}&LRofTheDayDay={15}&api_key={api_key}')"
   ]
  },
  {
   "cell_type": "markdown",
   "metadata": {},
   "source": [
    "### url_pgs_cntry -- People Groups in the Country"
   ]
  },
  {
   "cell_type": "code",
   "execution_count": 11,
   "metadata": {},
   "outputs": [],
   "source": [
    "# export\n",
    "url_pgs_cntry = partial(url_path_query,'/api/v2/people_groups')\n",
    "url_pgs_cntry.__doc__ = \"\"\"Get all people groups in a specific `cntry` country.\"\"\""
   ]
  },
  {
   "cell_type": "markdown",
   "metadata": {},
   "source": [
    "**Note**, since `cntry` is the first positional argument, it can be passed by value only."
   ]
  },
  {
   "cell_type": "code",
   "execution_count": 12,
   "metadata": {},
   "outputs": [],
   "source": [
    "country = 'EN'\n",
    "test_eq(url_pgs_cntry(country),\n",
    "    f'https://joshuaproject.net/api/v2/people_groups?ROG3={country}&api_key={api_key}')"
   ]
  },
  {
   "cell_type": "markdown",
   "metadata": {},
   "source": [
    "### url_upgs_cntry -- Unreached People Groups in the Country"
   ]
  },
  {
   "cell_type": "code",
   "execution_count": 13,
   "metadata": {},
   "outputs": [],
   "source": [
    "# export\n",
    "url_upgs_cntry = partial(url_pgs_cntry,extra='LeastReached=Y')\n",
    "url_upgs_cntry.__doc__ = \"\"\"Get all unreached people groups in a specific `cntry` country.\"\"\""
   ]
  },
  {
   "cell_type": "code",
   "execution_count": 14,
   "metadata": {},
   "outputs": [],
   "source": [
    "test_eq(url_upgs_cntry('IN'),\n",
    "    f'https://joshuaproject.net/api/v2/people_groups?ROG3=IN&LeastReached=Y&api_key={api_key}')"
   ]
  },
  {
   "cell_type": "markdown",
   "metadata": {},
   "source": [
    "### url_pg_cntry -- People Group in the Country"
   ]
  },
  {
   "cell_type": "code",
   "execution_count": 15,
   "metadata": {},
   "outputs": [],
   "source": [
    "# export\n",
    "url_pg_cntry = partial(url_pgs_cntry,api_key=api_key)\n",
    "url_pg_cntry.__doc__ = \"\"\"Get a specific people group in a specific `cntry` country.\"\"\""
   ]
  },
  {
   "cell_type": "code",
   "execution_count": 16,
   "metadata": {},
   "outputs": [],
   "source": [
    "test_eq(url_pg_cntry(cntry='RS'),\n",
    "    f'https://joshuaproject.net/api/v2/people_groups?ROG3=RS&api_key={api_key}')"
   ]
  },
  {
   "cell_type": "markdown",
   "metadata": {},
   "source": [
    "### url_pg_cntries -- All countries a specific people group lives in"
   ]
  },
  {
   "cell_type": "markdown",
   "metadata": {},
   "source": [
    "People group is to be encoded as `PeopleID3` -- People-Group-Across-Countries ID number."
   ]
  },
  {
   "cell_type": "code",
   "execution_count": 17,
   "metadata": {},
   "outputs": [],
   "source": [
    "url_pg_cntries = partial(url_pgs_cntry)\n",
    "url_pg_cntries.__doc__ = \"\"\"Get all countries a specific `pgid` people group lives in\"\"\""
   ]
  },
  {
   "cell_type": "code",
   "execution_count": 18,
   "metadata": {},
   "outputs": [],
   "source": [
    "pgid=18859\n",
    "test_eq(url_pg_cntries(pgid=pgid),\n",
    "    f'https://joshuaproject.net/api/v2/people_groups?&PeopleID3={pgid}&api_key={api_key}')"
   ]
  },
  {
   "cell_type": "markdown",
   "metadata": {},
   "source": [
    "### url_cntry -- Country's summary data"
   ]
  },
  {
   "cell_type": "code",
   "execution_count": 19,
   "metadata": {},
   "outputs": [],
   "source": [
    "# export\n",
    "url_cntry = partial(url_path_query,'/api/v2/countries')\n",
    "url_cntry.__doc__ = \"\"\"Get a country summary data.\"\"\""
   ]
  },
  {
   "cell_type": "code",
   "execution_count": 20,
   "metadata": {},
   "outputs": [],
   "source": [
    "country = 'BD'\n",
    "test_eq(url_cntry(country),\n",
    "    f'https://joshuaproject.net/api/v2/countries?ROG3={country}&api_key={api_key}')"
   ]
  },
  {
   "cell_type": "markdown",
   "metadata": {},
   "source": [
    "## Querying"
   ]
  },
  {
   "cell_type": "code",
   "execution_count": 21,
   "metadata": {},
   "outputs": [
    {
     "name": "stdout",
     "output_type": "stream",
     "text": [
      "403: The api_key you submited is not valid\n"
     ]
    }
   ],
   "source": [
    "# hide\n",
    "http = urllib3.PoolManager(cert_reqs='CERT_REQUIRED',ca_certs=certifi.where())\n",
    "\n",
    "url = url_pgs_cntry('RS')\n",
    "url\n",
    "\n",
    "resp = http.request('GET',url)\n",
    "\n",
    "if resp.status != 200:\n",
    "    resp_j = json.loads(resp.data)\n",
    "    s = resp_j['status']['status_code']\n",
    "    m = resp_j['status']['message']\n",
    "    print(f'{s}: {m}')\n",
    "\n",
    "\n",
    "url = url_pg_cntry('IN','16152')\n",
    "url\n",
    "\n",
    "resp_j = json.loads(resp.data)"
   ]
  },
  {
   "cell_type": "code",
   "execution_count": 22,
   "metadata": {
    "scrolled": false
   },
   "outputs": [],
   "source": [
    "# hide\n",
    "#print(json.dumps(resp_j['data'], sort_keys=False, indent=2))\n",
    "\n",
    "# TODO: Add procedding for multi-page results\n",
    "# for i in range(resp_j['meta']['pagination']['total_count']):\n",
    "#     print(resp_j['data'][i]['PeopNameInCountry'])\n",
    "\n",
    "#import pandas as pd\n",
    "\n",
    "#cc = pd.read_csv('data/country_codes.csv',skiprows=3,names=['Country_name','FIPS','ISO'])\n",
    "\n",
    "#cc.head().to_dict(orient='records')\n",
    "\n",
    "#cci = cc.set_index('ISO')\n",
    "\n",
    "#cci.drop('Country_name',axis=1).to_dict(orient='records')\n",
    "\n",
    "#cci.to_dict(orient='dict')['Country_name']"
   ]
  },
  {
   "cell_type": "markdown",
   "metadata": {},
   "source": [
    "## Convert JSON into a Pandas DataFrame"
   ]
  },
  {
   "cell_type": "code",
   "execution_count": 23,
   "metadata": {
    "scrolled": false
   },
   "outputs": [],
   "source": [
    "#hide\n",
    "# pd.DataFrame(resp_j['data']).head()"
   ]
  },
  {
   "cell_type": "code",
   "execution_count": 24,
   "metadata": {},
   "outputs": [],
   "source": [
    "#hide\n",
    "#json_str = json.dumps(resp_j['data'])"
   ]
  },
  {
   "cell_type": "markdown",
   "metadata": {},
   "source": [
    "#hide\n",
    "\n",
    "All people groups in a specific country\n",
    "\n",
    "http://joshuaproject.net/api/v2/people_groups?ROG3=YM&api_key=aWye9lV20QtF\n",
    "\n",
    "All unreached people groups in a specific country\n",
    "\n",
    "https://joshuaproject.net/api/v2/people_groups?ROG3=YM&LeastReached=Y&api_key=aWye9lV20QtF\n",
    "\n",
    "A people group in a specific country\n",
    "\n",
    "http://joshuaproject.net/api/v2/people_groups?ROG3=AF&PeopleID3=19409&api_key=aWye9lV20QtF\n",
    "\n",
    "All countries a specific people group lives in\n",
    "\n",
    "http://joshuaproject.net/api/v2/people_groups?PeopleID3=10294&api_key=aWye9lV20QtF\n",
    "\n",
    "**Country summary data**\n",
    "\n",
    "http://joshuaproject.net/api/v2/countries?ROG3=AF&api_key=aWye9lV20QtF\n",
    "\n",
    "**Language summary info**\n",
    "\n",
    "http://joshuaproject.net/api/v2/languages?ROL3=hau&api_key=aWye9lV20QtF\n",
    "\n",
    "**Unreached of the Day** (basic data October 16th)\n",
    "\n",
    "https://joshuaproject.net/api/v2/upgotd?api_key=aWye9lV20QtF&ROL3Profile=eng&LRofTheDayMonth=10&LRofTheDayDay=16"
   ]
  },
  {
   "cell_type": "markdown",
   "metadata": {},
   "source": [
    "## Export -"
   ]
  },
  {
   "cell_type": "code",
   "execution_count": 25,
   "metadata": {},
   "outputs": [
    {
     "name": "stdout",
     "output_type": "stream",
     "text": [
      "Converted 00_core.ipynb.\n",
      "Converted index.ipynb.\n"
     ]
    }
   ],
   "source": [
    "#hide\n",
    "from nbdev.export import notebook2script\n",
    "notebook2script()"
   ]
  },
  {
   "cell_type": "code",
   "execution_count": null,
   "metadata": {},
   "outputs": [],
   "source": []
  }
 ],
 "metadata": {
  "kernelspec": {
   "display_name": "Python 3",
   "language": "python",
   "name": "python3"
  },
  "language_info": {
   "codemirror_mode": {
    "name": "ipython",
    "version": 3
   },
   "file_extension": ".py",
   "mimetype": "text/x-python",
   "name": "python",
   "nbconvert_exporter": "python",
   "pygments_lexer": "ipython3",
   "version": "3.7.3"
  }
 },
 "nbformat": 4,
 "nbformat_minor": 2
}
