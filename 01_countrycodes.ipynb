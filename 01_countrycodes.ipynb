{
 "cells": [
  {
   "cell_type": "code",
   "execution_count": null,
   "metadata": {},
   "outputs": [],
   "source": [
    "# default_exp countrycodes"
   ]
  },
  {
   "cell_type": "code",
   "execution_count": null,
   "metadata": {},
   "outputs": [],
   "source": [
    "# export\n",
    "import pandas as pd\n",
    "from fastcore.test import *"
   ]
  },
  {
   "cell_type": "code",
   "execution_count": null,
   "metadata": {},
   "outputs": [],
   "source": [
    "from nbdev.showdoc import *"
   ]
  },
  {
   "cell_type": "markdown",
   "metadata": {},
   "source": [
    "# Country Codes\n",
    "> Class `CountryCodes()` to search and convert between `iso` and `fips` country codes."
   ]
  },
  {
   "cell_type": "markdown",
   "metadata": {},
   "source": [
    "## Solution to a problem"
   ]
  },
  {
   "cell_type": "markdown",
   "metadata": {},
   "source": [
    "Joshua Project uses **FIPS** codes (*US Federal Information Processing Standard)* for countries. \n",
    "\n",
    ">[FIPS 10-4](https://www.wikiwand.com/en/FIPS_10-4) (April 1995) -- Countries, Dependencies, Areas of Special Sovereignty, and Their\n",
    "Principal Administrative Divisions. \n",
    "\n",
    "However, FIPS 10-4 was [withdrawn by NIST](https://www.nist.gov/system/files/documents/itl/FIPSCodesReplacementChart2015.pdf)  on September 2, 2008 in favor of the international [**ISO 3166** standard](https://www.iso.org/iso-3166-country-codes.html). \n",
    "\n",
    "In the meantime, as of Jan 2020 Joshua Project has no plans to switch onto ISO codes, I was notified. *sigh*\n",
    "\n",
    "Sadly, FIPS in **60%** cases differs from the ISO.\n",
    "\n",
    "This library provides a `CountryCodes()` class to workaround this discrepancy.\n",
    "\n",
    "Wherever the library uses the term `iso code`, **ISO 3166 alpha 2** country code is implied as defined here: https://www.iso.org/obp/ui/"
   ]
  },
  {
   "cell_type": "code",
   "execution_count": null,
   "metadata": {},
   "outputs": [],
   "source": [
    "from joshuaproject.countrycodes import *"
   ]
  },
  {
   "cell_type": "code",
   "execution_count": null,
   "metadata": {},
   "outputs": [],
   "source": [
    "# export\n",
    "class CountryCodes():\n",
    "    \"\"\"Returns FIPS and ISO 3166 alpha 2 country codes  for `cname` and converts between.\"\"\"\n",
    "    def __init__(self):\n",
    "        self.data = pd.read_csv('data/country_codes.csv',skiprows=3,names=['cname','FIPS','ISO'])\n",
    "    \n",
    "    def __len__(self): \n",
    "        \"\"\"Returns lenth of `data`.\"\"\"\n",
    "        return len(self.data)\n",
    "    \n",
    "    def __repr__(self): \n",
    "        \"\"\"Returns a `str` representing the `data`.\"\"\"\n",
    "        return f'{self.data.to_string(max_rows=None)}'\n",
    "    \n",
    "    def head(self,rows=10): \n",
    "        \"\"\"Returns first `rows`.\"\"\"\n",
    "        return self.data.head(rows)\n",
    "    \n",
    "    def tail(self,rows=10): \n",
    "        \"\"\"Returns last `rows`.\"\"\"\n",
    "        return self.data.tail(rows)\n",
    "    \n",
    "    def __getitem__(self,idx): \n",
    "        \"\"\"Return `idx`th element of data.\"\"\"\n",
    "        return self.data.iloc[idx]\n",
    "      \n",
    "    def like(self,cname:str,max:int=None)->list:\n",
    "        \"\"\"Returns a list of dict with `max` entries with country name like `cname`.\"\"\"\n",
    "        res = self.data[self.data['cname'].str.contains(cname)].to_dict(orient='record')\n",
    "        if len(res) == 0: return []\n",
    "        if (max is not None) and (len(res) > max): \n",
    "            assert max >0, \"CountryCodes().like: `max` argument must be positive or `None`.\"\n",
    "            return res[:max]\n",
    "        return res\n",
    "    \n",
    "    def __call__(self,cname:str)->str:\n",
    "        \"\"\"Returns `fips` code of `cname`.\"\"\"\n",
    "        return self.like(cname,max=1)[0]['FIPS']\n",
    "    \n",
    "    def fips(self,cname:str)->str:\n",
    "        \"\"\"Returns `fips` code of `cname`.\"\"\"\n",
    "        return self.__call__(cname)\n",
    "    \n",
    "    def iso(self,cname:str)->str:\n",
    "        \"\"\"Returns `iso` code of `cname`.\"\"\"\n",
    "        return self.like(cname,max=1)[0]['ISO']\n",
    "    \n",
    "    def name(self,cname:str)->str:\n",
    "        \"\"\"Returns a `str` of the first of country name like `cname`.\"\"\"\n",
    "        return self.like(cname,max=1)[0]['cname']    "
   ]
  },
  {
   "cell_type": "code",
   "execution_count": null,
   "metadata": {},
   "outputs": [
    {
     "data": {
      "text/markdown": [
       "<h2 id=\"CountryCodes\" class=\"doc_header\"><code>class</code> <code>CountryCodes</code><a href=\"\" class=\"source_link\" style=\"float:right\">[source]</a></h2>\n",
       "\n",
       "> <code>CountryCodes</code>()\n",
       "\n",
       "Returns FIPS and ISO 3166 alpha 2 country codes  for `cname` and converts between."
      ],
      "text/plain": [
       "<IPython.core.display.Markdown object>"
      ]
     },
     "metadata": {},
     "output_type": "display_data"
    }
   ],
   "source": [
    "show_doc(CountryCodes)"
   ]
  },
  {
   "cell_type": "code",
   "execution_count": null,
   "metadata": {},
   "outputs": [],
   "source": [
    "cc = CountryCodes()"
   ]
  },
  {
   "cell_type": "code",
   "execution_count": null,
   "metadata": {},
   "outputs": [
    {
     "data": {
      "text/plain": [
       "249"
      ]
     },
     "execution_count": null,
     "metadata": {},
     "output_type": "execute_result"
    }
   ],
   "source": [
    "test_eq(len(cc),len(cc.data))\n",
    "len(cc)"
   ]
  },
  {
   "cell_type": "code",
   "execution_count": null,
   "metadata": {},
   "outputs": [
    {
     "data": {
      "text/markdown": [
       "<h4 id=\"CountryCodes.head\" class=\"doc_header\"><code>CountryCodes.head</code><a href=\"__main__.py#L15\" class=\"source_link\" style=\"float:right\">[source]</a></h4>\n",
       "\n",
       "> <code>CountryCodes.head</code>(**`rows`**=*`10`*)\n",
       "\n",
       "Returns first `rows`."
      ],
      "text/plain": [
       "<IPython.core.display.Markdown object>"
      ]
     },
     "metadata": {},
     "output_type": "display_data"
    }
   ],
   "source": [
    "show_doc(CountryCodes.head)"
   ]
  },
  {
   "cell_type": "code",
   "execution_count": null,
   "metadata": {},
   "outputs": [
    {
     "data": {
      "text/html": [
       "<div>\n",
       "<style scoped>\n",
       "    .dataframe tbody tr th:only-of-type {\n",
       "        vertical-align: middle;\n",
       "    }\n",
       "\n",
       "    .dataframe tbody tr th {\n",
       "        vertical-align: top;\n",
       "    }\n",
       "\n",
       "    .dataframe thead th {\n",
       "        text-align: right;\n",
       "    }\n",
       "</style>\n",
       "<table border=\"1\" class=\"dataframe\">\n",
       "  <thead>\n",
       "    <tr style=\"text-align: right;\">\n",
       "      <th></th>\n",
       "      <th>cname</th>\n",
       "      <th>FIPS</th>\n",
       "      <th>ISO</th>\n",
       "    </tr>\n",
       "  </thead>\n",
       "  <tbody>\n",
       "    <tr>\n",
       "      <td>0</td>\n",
       "      <td>Afghanistan</td>\n",
       "      <td>AF</td>\n",
       "      <td>AF</td>\n",
       "    </tr>\n",
       "    <tr>\n",
       "      <td>1</td>\n",
       "      <td>Aland Islands</td>\n",
       "      <td>NaN</td>\n",
       "      <td>AX</td>\n",
       "    </tr>\n",
       "    <tr>\n",
       "      <td>2</td>\n",
       "      <td>Albania</td>\n",
       "      <td>AL</td>\n",
       "      <td>AL</td>\n",
       "    </tr>\n",
       "    <tr>\n",
       "      <td>3</td>\n",
       "      <td>Algeria</td>\n",
       "      <td>AG</td>\n",
       "      <td>DZ</td>\n",
       "    </tr>\n",
       "    <tr>\n",
       "      <td>4</td>\n",
       "      <td>American Samoa</td>\n",
       "      <td>AQ</td>\n",
       "      <td>AS</td>\n",
       "    </tr>\n",
       "  </tbody>\n",
       "</table>\n",
       "</div>"
      ],
      "text/plain": [
       "            cname FIPS ISO\n",
       "0     Afghanistan   AF  AF\n",
       "1   Aland Islands  NaN  AX\n",
       "2         Albania   AL  AL\n",
       "3         Algeria   AG  DZ\n",
       "4  American Samoa   AQ  AS"
      ]
     },
     "execution_count": null,
     "metadata": {},
     "output_type": "execute_result"
    }
   ],
   "source": [
    "cc.head(5)"
   ]
  },
  {
   "cell_type": "code",
   "execution_count": null,
   "metadata": {},
   "outputs": [
    {
     "data": {
      "text/html": [
       "<div>\n",
       "<style scoped>\n",
       "    .dataframe tbody tr th:only-of-type {\n",
       "        vertical-align: middle;\n",
       "    }\n",
       "\n",
       "    .dataframe tbody tr th {\n",
       "        vertical-align: top;\n",
       "    }\n",
       "\n",
       "    .dataframe thead th {\n",
       "        text-align: right;\n",
       "    }\n",
       "</style>\n",
       "<table border=\"1\" class=\"dataframe\">\n",
       "  <thead>\n",
       "    <tr style=\"text-align: right;\">\n",
       "      <th></th>\n",
       "      <th>cname</th>\n",
       "      <th>FIPS</th>\n",
       "      <th>ISO</th>\n",
       "    </tr>\n",
       "  </thead>\n",
       "  <tbody>\n",
       "    <tr>\n",
       "      <td>1</td>\n",
       "      <td>Aland Islands</td>\n",
       "      <td>NaN</td>\n",
       "      <td>AX</td>\n",
       "    </tr>\n",
       "    <tr>\n",
       "      <td>27</td>\n",
       "      <td>Bonaire, Sint Eustatius and Saba</td>\n",
       "      <td>NaN</td>\n",
       "      <td>BQ</td>\n",
       "    </tr>\n",
       "    <tr>\n",
       "      <td>236</td>\n",
       "      <td>United States Minor Outlying Islands</td>\n",
       "      <td>NaN</td>\n",
       "      <td>UM</td>\n",
       "    </tr>\n",
       "  </tbody>\n",
       "</table>\n",
       "</div>"
      ],
      "text/plain": [
       "                                    cname FIPS ISO\n",
       "1                           Aland Islands  NaN  AX\n",
       "27       Bonaire, Sint Eustatius and Saba  NaN  BQ\n",
       "236  United States Minor Outlying Islands  NaN  UM"
      ]
     },
     "execution_count": null,
     "metadata": {},
     "output_type": "execute_result"
    }
   ],
   "source": [
    "cc.data[cc.data.FIPS.isna()]"
   ]
  },
  {
   "cell_type": "code",
   "execution_count": null,
   "metadata": {},
   "outputs": [
    {
     "data": {
      "text/markdown": [
       "<h4 id=\"CountryCodes.tail\" class=\"doc_header\"><code>CountryCodes.tail</code><a href=\"__main__.py#L19\" class=\"source_link\" style=\"float:right\">[source]</a></h4>\n",
       "\n",
       "> <code>CountryCodes.tail</code>(**`rows`**=*`10`*)\n",
       "\n",
       "Returns last `rows`."
      ],
      "text/plain": [
       "<IPython.core.display.Markdown object>"
      ]
     },
     "metadata": {},
     "output_type": "display_data"
    }
   ],
   "source": [
    "show_doc(CountryCodes.tail)"
   ]
  },
  {
   "cell_type": "code",
   "execution_count": null,
   "metadata": {},
   "outputs": [
    {
     "data": {
      "text/html": [
       "<div>\n",
       "<style scoped>\n",
       "    .dataframe tbody tr th:only-of-type {\n",
       "        vertical-align: middle;\n",
       "    }\n",
       "\n",
       "    .dataframe tbody tr th {\n",
       "        vertical-align: top;\n",
       "    }\n",
       "\n",
       "    .dataframe thead th {\n",
       "        text-align: right;\n",
       "    }\n",
       "</style>\n",
       "<table border=\"1\" class=\"dataframe\">\n",
       "  <thead>\n",
       "    <tr style=\"text-align: right;\">\n",
       "      <th></th>\n",
       "      <th>cname</th>\n",
       "      <th>FIPS</th>\n",
       "      <th>ISO</th>\n",
       "    </tr>\n",
       "  </thead>\n",
       "  <tbody>\n",
       "    <tr>\n",
       "      <td>244</td>\n",
       "      <td>Wallis and Futuna</td>\n",
       "      <td>WF</td>\n",
       "      <td>WF</td>\n",
       "    </tr>\n",
       "    <tr>\n",
       "      <td>245</td>\n",
       "      <td>Western Sahara</td>\n",
       "      <td>WI</td>\n",
       "      <td>EH</td>\n",
       "    </tr>\n",
       "    <tr>\n",
       "      <td>246</td>\n",
       "      <td>Yemen</td>\n",
       "      <td>YM</td>\n",
       "      <td>YE</td>\n",
       "    </tr>\n",
       "    <tr>\n",
       "      <td>247</td>\n",
       "      <td>Zambia</td>\n",
       "      <td>ZA</td>\n",
       "      <td>ZM</td>\n",
       "    </tr>\n",
       "    <tr>\n",
       "      <td>248</td>\n",
       "      <td>Zimbabwe</td>\n",
       "      <td>ZI</td>\n",
       "      <td>ZW</td>\n",
       "    </tr>\n",
       "  </tbody>\n",
       "</table>\n",
       "</div>"
      ],
      "text/plain": [
       "                 cname FIPS ISO\n",
       "244  Wallis and Futuna   WF  WF\n",
       "245     Western Sahara   WI  EH\n",
       "246              Yemen   YM  YE\n",
       "247             Zambia   ZA  ZM\n",
       "248           Zimbabwe   ZI  ZW"
      ]
     },
     "execution_count": null,
     "metadata": {},
     "output_type": "execute_result"
    }
   ],
   "source": [
    "cc.tail(5)"
   ]
  },
  {
   "cell_type": "code",
   "execution_count": null,
   "metadata": {},
   "outputs": [
    {
     "data": {
      "text/markdown": [
       "<h4 id=\"CountryCodes.__getitem__\" class=\"doc_header\"><code>CountryCodes.__getitem__</code><a href=\"__main__.py#L23\" class=\"source_link\" style=\"float:right\">[source]</a></h4>\n",
       "\n",
       "> <code>CountryCodes.__getitem__</code>(**`idx`**)\n",
       "\n",
       "Return `idx`th element of data."
      ],
      "text/plain": [
       "<IPython.core.display.Markdown object>"
      ]
     },
     "metadata": {},
     "output_type": "display_data"
    }
   ],
   "source": [
    "show_doc(CountryCodes.__getitem__)"
   ]
  },
  {
   "cell_type": "code",
   "execution_count": null,
   "metadata": {},
   "outputs": [
    {
     "data": {
      "text/plain": [
       "cname    Iceland\n",
       "FIPS          IC\n",
       "ISO           IS\n",
       "Name: 101, dtype: object"
      ]
     },
     "execution_count": null,
     "metadata": {},
     "output_type": "execute_result"
    }
   ],
   "source": [
    "cc[101]"
   ]
  },
  {
   "cell_type": "code",
   "execution_count": null,
   "metadata": {},
   "outputs": [],
   "source": [
    "test_eq(cc[101].cname, 'Iceland')\n",
    "test_eq(cc[101].FIPS,'IC')\n",
    "test_eq(cc[101].ISO, 'IS')"
   ]
  },
  {
   "cell_type": "markdown",
   "metadata": {},
   "source": [
    "Also supports slicing."
   ]
  },
  {
   "cell_type": "code",
   "execution_count": null,
   "metadata": {},
   "outputs": [
    {
     "data": {
      "text/html": [
       "<div>\n",
       "<style scoped>\n",
       "    .dataframe tbody tr th:only-of-type {\n",
       "        vertical-align: middle;\n",
       "    }\n",
       "\n",
       "    .dataframe tbody tr th {\n",
       "        vertical-align: top;\n",
       "    }\n",
       "\n",
       "    .dataframe thead th {\n",
       "        text-align: right;\n",
       "    }\n",
       "</style>\n",
       "<table border=\"1\" class=\"dataframe\">\n",
       "  <thead>\n",
       "    <tr style=\"text-align: right;\">\n",
       "      <th></th>\n",
       "      <th>cname</th>\n",
       "      <th>FIPS</th>\n",
       "      <th>ISO</th>\n",
       "    </tr>\n",
       "  </thead>\n",
       "  <tbody>\n",
       "    <tr>\n",
       "      <td>10</td>\n",
       "      <td>Argentina</td>\n",
       "      <td>AR</td>\n",
       "      <td>AR</td>\n",
       "    </tr>\n",
       "    <tr>\n",
       "      <td>11</td>\n",
       "      <td>Armenia</td>\n",
       "      <td>AM</td>\n",
       "      <td>AM</td>\n",
       "    </tr>\n",
       "    <tr>\n",
       "      <td>12</td>\n",
       "      <td>Aruba</td>\n",
       "      <td>AA</td>\n",
       "      <td>AW</td>\n",
       "    </tr>\n",
       "  </tbody>\n",
       "</table>\n",
       "</div>"
      ],
      "text/plain": [
       "        cname FIPS ISO\n",
       "10  Argentina   AR  AR\n",
       "11    Armenia   AM  AM\n",
       "12      Aruba   AA  AW"
      ]
     },
     "execution_count": null,
     "metadata": {},
     "output_type": "execute_result"
    }
   ],
   "source": [
    "cc[10:13]"
   ]
  },
  {
   "cell_type": "code",
   "execution_count": null,
   "metadata": {},
   "outputs": [
    {
     "data": {
      "text/markdown": [
       "<h4 id=\"CountryCodes.like\" class=\"doc_header\"><code>CountryCodes.like</code><a href=\"__main__.py#L27\" class=\"source_link\" style=\"float:right\">[source]</a></h4>\n",
       "\n",
       "> <code>CountryCodes.like</code>(**`cname`**:`str`, **`max`**:`int`=*`None`*)\n",
       "\n",
       "Returns a list of dict with `max` entries with country name like `cname`."
      ],
      "text/plain": [
       "<IPython.core.display.Markdown object>"
      ]
     },
     "metadata": {},
     "output_type": "display_data"
    }
   ],
   "source": [
    "show_doc(CountryCodes.like)"
   ]
  },
  {
   "cell_type": "code",
   "execution_count": null,
   "metadata": {},
   "outputs": [
    {
     "data": {
      "text/plain": [
       "[{'cname': 'Tanzania, United Republic of', 'FIPS': 'TZ', 'ISO': 'TZ'},\n",
       " {'cname': 'United Arab Emirates', 'FIPS': 'AE', 'ISO': 'AE'},\n",
       " {'cname': 'United Kingdom', 'FIPS': 'UK', 'ISO': 'GB'},\n",
       " {'cname': 'United States', 'FIPS': 'US', 'ISO': 'US'},\n",
       " {'cname': 'United States Minor Outlying Islands', 'FIPS': nan, 'ISO': 'UM'}]"
      ]
     },
     "execution_count": null,
     "metadata": {},
     "output_type": "execute_result"
    }
   ],
   "source": [
    "cc.like('United')"
   ]
  },
  {
   "cell_type": "code",
   "execution_count": null,
   "metadata": {},
   "outputs": [],
   "source": [
    "test_eq(cc.like('Russia'),[{'cname': 'Russian Federation', 'FIPS': 'RS', 'ISO': 'RU'}])\n",
    "\n",
    "test_eq(cc.like('United',2),\n",
    "        [{'cname': 'Tanzania, United Republic of', 'FIPS': 'TZ', 'ISO': 'TZ'},\n",
    "         {'cname': 'United Arab Emirates', 'FIPS': 'AE', 'ISO': 'AE'}])\n",
    "\n",
    "test_eq(cc.like('Non-existing'),[])"
   ]
  },
  {
   "cell_type": "code",
   "execution_count": null,
   "metadata": {},
   "outputs": [
    {
     "data": {
      "text/markdown": [
       "<h4 id=\"CountryCodes.iso\" class=\"doc_header\"><code>CountryCodes.iso</code><a href=\"__main__.py#L44\" class=\"source_link\" style=\"float:right\">[source]</a></h4>\n",
       "\n",
       "> <code>CountryCodes.iso</code>(**`cname`**:`str`)\n",
       "\n",
       "Returns `iso` code of `cname`."
      ],
      "text/plain": [
       "<IPython.core.display.Markdown object>"
      ]
     },
     "metadata": {},
     "output_type": "display_data"
    }
   ],
   "source": [
    "show_doc(CountryCodes.iso)"
   ]
  },
  {
   "cell_type": "code",
   "execution_count": null,
   "metadata": {},
   "outputs": [],
   "source": [
    "test_eq(cc.iso('Russia'),'RU')"
   ]
  },
  {
   "cell_type": "code",
   "execution_count": null,
   "metadata": {},
   "outputs": [
    {
     "data": {
      "text/markdown": [
       "<h4 id=\"CountryCodes.fips\" class=\"doc_header\"><code>CountryCodes.fips</code><a href=\"__main__.py#L40\" class=\"source_link\" style=\"float:right\">[source]</a></h4>\n",
       "\n",
       "> <code>CountryCodes.fips</code>(**`cname`**:`str`)\n",
       "\n",
       "Returns `fips` code of `cname`."
      ],
      "text/plain": [
       "<IPython.core.display.Markdown object>"
      ]
     },
     "metadata": {},
     "output_type": "display_data"
    }
   ],
   "source": [
    "show_doc(CountryCodes.fips)"
   ]
  },
  {
   "cell_type": "markdown",
   "metadata": {},
   "source": [
    "Note that two forms of calls are possible:"
   ]
  },
  {
   "cell_type": "code",
   "execution_count": null,
   "metadata": {},
   "outputs": [],
   "source": [
    "test_eq(cc.fips('Russia'),'RS')\n",
    "test_eq(cc('Russia'),'RS')"
   ]
  },
  {
   "cell_type": "markdown",
   "metadata": {},
   "source": [
    "## Export -"
   ]
  },
  {
   "cell_type": "code",
   "execution_count": null,
   "metadata": {},
   "outputs": [
    {
     "name": "stdout",
     "output_type": "stream",
     "text": [
      "Converted 00_url.ipynb.\n",
      "Converted 01_countrycodes.ipynb.\n",
      "Converted index.ipynb.\n"
     ]
    }
   ],
   "source": [
    "#hide\n",
    "from nbdev.export import notebook2script\n",
    "notebook2script()"
   ]
  }
 ],
 "metadata": {
  "kernelspec": {
   "display_name": "Python 3",
   "language": "python",
   "name": "python3"
  }
 },
 "nbformat": 4,
 "nbformat_minor": 2
}
