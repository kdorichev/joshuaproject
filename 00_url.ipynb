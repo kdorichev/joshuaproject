{
 "cells": [
  {
   "cell_type": "code",
   "execution_count": null,
   "metadata": {},
   "outputs": [],
   "source": [
    "# default_exp url"
   ]
  },
  {
   "cell_type": "markdown",
   "metadata": {},
   "source": [
    "# URL Functions\n",
    "> `url` module of the library. Functions related to URL construction\n",
    "\n",
    "[Joshua Project](https://joshuaproject.net/) via [APIv2](https://joshuaproject.net/resources/datasets)"
   ]
  },
  {
   "cell_type": "code",
   "execution_count": null,
   "metadata": {},
   "outputs": [],
   "source": [
    "# export\n",
    "import urllib3\n",
    "from urllib3.util.url import Url\n",
    "import certifi\n",
    "import json\n",
    "from functools import partial\n",
    "from datetime import date\n",
    "from fastcore.test import *"
   ]
  },
  {
   "cell_type": "code",
   "execution_count": null,
   "metadata": {},
   "outputs": [],
   "source": [
    "#hide\n",
    "from nbdev.showdoc import *"
   ]
  },
  {
   "cell_type": "markdown",
   "metadata": {},
   "source": [
    "## URL Construction Functions"
   ]
  },
  {
   "cell_type": "code",
   "execution_count": null,
   "metadata": {},
   "outputs": [],
   "source": [
    "# export\n",
    "api_key='your_api_key' # 'w3NOS49TW7fg'"
   ]
  },
  {
   "cell_type": "code",
   "execution_count": null,
   "metadata": {},
   "outputs": [],
   "source": [
    "# export\n",
    "def url_path_query(path:str,cntry:str=None,pgid:str=None,lang=None,extra=None,month=None,day=None,api_key=api_key)->str:\n",
    "    \"\"\"Builds and returns a string url to query `path` for `cntry` \n",
    "    with optional `pgid`,`extra`,`month` and `day`.\"\"\"\n",
    "    query = ''\n",
    "    if cntry is not None: query = query+'ROG3='+str(cntry)\n",
    "    if pgid  is not None: query = query+'&PeopleID3='+str(pgid)\n",
    "    if lang  is not None: query = query+'&ROL3='+str(lang)\n",
    "    if extra is not None: query = query+'&'+str(extra)\n",
    "    if 'upgotd' in path:\n",
    "        today = date.today()\n",
    "        if isinstance(day,  int):   day=str(day)\n",
    "        if isinstance(month,int): month=str(month)\n",
    "        if day is None:   day   = today.strftime(\"%-d\")\n",
    "        if month is None: month = today.strftime(\"%-m\")\n",
    "        query = query+'&LRofTheDayMonth='+month\n",
    "        query = query+'&LRofTheDayDay='  +day\n",
    "    query = query+'&api_key='+api_key\n",
    "    return Url(scheme='https', host='joshuaproject.net', path=path, query=query).url"
   ]
  },
  {
   "cell_type": "code",
   "execution_count": null,
   "metadata": {},
   "outputs": [
    {
     "data": {
      "text/markdown": [
       "<h3 id=\"url_path_query\" class=\"doc_header\"><code>url_path_query</code><a href=\"__main__.py#L2\" class=\"source_link\" style=\"float:right\">[source]</a></h3>\n",
       "\n",
       "> <code>url_path_query</code>(**`path`**:`str`, **`cntry`**:`str`=*`None`*, **`pgid`**:`str`=*`None`*, **`lang`**=*`None`*, **`extra`**=*`None`*, **`month`**=*`None`*, **`day`**=*`None`*, **`api_key`**=*`'your_api_key'`*)\n",
       "\n",
       "Builds and returns a string url to query `path` for `cntry` \n",
       "with optional `pgid`,`extra`,`month` and `day`."
      ],
      "text/plain": [
       "<IPython.core.display.Markdown object>"
      ]
     },
     "metadata": {},
     "output_type": "display_data"
    }
   ],
   "source": [
    "show_doc(url_path_query,title_level=3)"
   ]
  },
  {
   "cell_type": "markdown",
   "metadata": {},
   "source": [
    "`url_path_query` is a **generic low-level** function. It requires specification of required `path` and if used without other specific arguments, returns over 17000 records.\n",
    "\n",
    "`cntry` is a two-letter country code as was specified in FIPS 10-4 (US Federal Information Processing Standard), which is now absolete a bit differs from the international ISO 3166 standard. See details.\n",
    "\n",
    "The library provides a helper function to work around the current ambiguity.\n",
    "\n",
    "`pgid` is a string with people group id.\n",
    "\n",
    "`extra` is an *optional* argument in a form `field=value`, for example: `'LeastReached=Y'`\n",
    "\n",
    "`month` and `day` are *optional* arguments of type `int` used in `url_upgotd` to specify the date for which to request the unreached people group. If either is omitted, the value of the current date is used. If `int` values are passed, these are coverted to proper `str`."
   ]
  },
  {
   "cell_type": "code",
   "execution_count": null,
   "metadata": {},
   "outputs": [],
   "source": [
    "test_eq(url_path_query('/api/v2/people_groups'),\n",
    "        f'https://joshuaproject.net/api/v2/people_groups?&api_key={api_key}')"
   ]
  },
  {
   "cell_type": "markdown",
   "metadata": {},
   "source": [
    "### url_upgotd -- Unreached People Group of the Day"
   ]
  },
  {
   "cell_type": "code",
   "execution_count": null,
   "metadata": {},
   "outputs": [],
   "source": [
    "# exports\n",
    "url_upgotd = partial(url_path_query,'/api/v2/upgotd')\n",
    "url_upgotd.__doc__ = \"\"\"Get data for the UPG of the day.\"\"\""
   ]
  },
  {
   "cell_type": "code",
   "execution_count": null,
   "metadata": {},
   "outputs": [],
   "source": [
    "m,d = date.today().strftime(\"%-m\"),date.today().strftime(\"%-d\")\n",
    "test_eq(\n",
    "    url_upgotd(),\n",
    "    f'https://joshuaproject.net/api/v2/upgotd?&LRofTheDayMonth={m}&LRofTheDayDay={d}&api_key={api_key}')"
   ]
  },
  {
   "cell_type": "code",
   "execution_count": null,
   "metadata": {},
   "outputs": [],
   "source": [
    "# hide\n",
    "test_eq(\n",
    "    url_upgotd(month=10,day=1),\n",
    "    f'https://joshuaproject.net/api/v2/upgotd?&LRofTheDayMonth=10&LRofTheDayDay=1&api_key={api_key}')\n",
    "\n",
    "m = date.today().strftime(\"%-m\")\n",
    "test_eq(\n",
    "    url_upgotd(day='15'),\n",
    "    f'https://joshuaproject.net/api/v2/upgotd?&LRofTheDayMonth={m}&LRofTheDayDay={15}&api_key={api_key}')"
   ]
  },
  {
   "cell_type": "markdown",
   "metadata": {},
   "source": [
    "### url_pgs_cntry -- People Groups in the Country"
   ]
  },
  {
   "cell_type": "code",
   "execution_count": null,
   "metadata": {},
   "outputs": [],
   "source": [
    "# exports\n",
    "url_pgs_cntry = partial(url_path_query,'/api/v2/people_groups')\n",
    "url_pgs_cntry.__doc__ = \"\"\"Get all people groups in a specific `cntry` country.\"\"\""
   ]
  },
  {
   "cell_type": "markdown",
   "metadata": {},
   "source": [
    "**Note**, since `cntry` is the first positional argument, it can be passed by value only."
   ]
  },
  {
   "cell_type": "code",
   "execution_count": null,
   "metadata": {},
   "outputs": [],
   "source": [
    "country = 'EN'\n",
    "test_eq(url_pgs_cntry(country),\n",
    "    f'https://joshuaproject.net/api/v2/people_groups?ROG3={country}&api_key={api_key}')"
   ]
  },
  {
   "cell_type": "markdown",
   "metadata": {},
   "source": [
    "### url_upgs_cntry -- Unreached People Groups in the Country"
   ]
  },
  {
   "cell_type": "code",
   "execution_count": null,
   "metadata": {},
   "outputs": [],
   "source": [
    "# exports\n",
    "url_upgs_cntry = partial(url_pgs_cntry,extra='LeastReached=Y')\n",
    "url_upgs_cntry.__doc__ = \"\"\"Get all unreached people groups in a specific `cntry` country.\"\"\""
   ]
  },
  {
   "cell_type": "code",
   "execution_count": null,
   "metadata": {},
   "outputs": [],
   "source": [
    "test_eq(url_upgs_cntry('IN'),\n",
    "    f'https://joshuaproject.net/api/v2/people_groups?ROG3=IN&LeastReached=Y&api_key={api_key}')"
   ]
  },
  {
   "cell_type": "markdown",
   "metadata": {},
   "source": [
    "### url_pg_cntry -- People Group in the Country"
   ]
  },
  {
   "cell_type": "code",
   "execution_count": null,
   "metadata": {},
   "outputs": [],
   "source": [
    "# exports\n",
    "url_pg_cntry = partial(url_pgs_cntry)\n",
    "url_pg_cntry.__doc__ = \"\"\"Get a specific people group in a specific `cntry` country.\"\"\""
   ]
  },
  {
   "cell_type": "code",
   "execution_count": null,
   "metadata": {},
   "outputs": [],
   "source": [
    "test_eq(url_pg_cntry(cntry='RS'),\n",
    "    f'https://joshuaproject.net/api/v2/people_groups?ROG3=RS&api_key={api_key}')"
   ]
  },
  {
   "cell_type": "markdown",
   "metadata": {},
   "source": [
    "### url_pg_cntries -- All countries a specific people group lives in"
   ]
  },
  {
   "cell_type": "markdown",
   "metadata": {},
   "source": [
    "People group is to be encoded as `PeopleID3` -- People-Group-Across-Countries ID number."
   ]
  },
  {
   "cell_type": "code",
   "execution_count": null,
   "metadata": {},
   "outputs": [],
   "source": [
    "# exports\n",
    "url_pg_cntries = partial(url_pgs_cntry)\n",
    "url_pg_cntries.__doc__ = \"\"\"Get all countries a specific `pgid` people group lives in\"\"\""
   ]
  },
  {
   "cell_type": "code",
   "execution_count": null,
   "metadata": {},
   "outputs": [],
   "source": [
    "pgid=18859\n",
    "test_eq(url_pg_cntries(pgid=pgid),\n",
    "    f'https://joshuaproject.net/api/v2/people_groups?&PeopleID3={pgid}&api_key={api_key}')"
   ]
  },
  {
   "cell_type": "markdown",
   "metadata": {},
   "source": [
    "### url_cntry -- Country's summary data"
   ]
  },
  {
   "cell_type": "code",
   "execution_count": null,
   "metadata": {},
   "outputs": [],
   "source": [
    "# exports\n",
    "url_cntry = partial(url_path_query,'/api/v2/countries')\n",
    "url_cntry.__doc__ = \"\"\"Get a country summary data.\"\"\""
   ]
  },
  {
   "cell_type": "code",
   "execution_count": null,
   "metadata": {},
   "outputs": [],
   "source": [
    "country = 'BD'\n",
    "test_eq(url_cntry(country),\n",
    "    f'https://joshuaproject.net/api/v2/countries?ROG3={country}&api_key={api_key}')"
   ]
  },
  {
   "cell_type": "markdown",
   "metadata": {},
   "source": [
    "### url_lang -- Language summary data"
   ]
  },
  {
   "cell_type": "markdown",
   "metadata": {},
   "source": [
    "Language argument is expected encoded as ROL3."
   ]
  },
  {
   "cell_type": "code",
   "execution_count": null,
   "metadata": {},
   "outputs": [],
   "source": [
    "url_lang = partial(url_path_query,'/api/v2/languages')\n",
    "url_lang.__doc__ = \"\"\"Get a `lang` language summary data.\"\"\""
   ]
  },
  {
   "cell_type": "code",
   "execution_count": null,
   "metadata": {},
   "outputs": [],
   "source": [
    "lang='hau'\n",
    "test_eq(url_lang(lang=lang),\n",
    "    f'https://joshuaproject.net/api/v2/languages?&ROL3={lang}&api_key={api_key}')"
   ]
  },
  {
   "cell_type": "markdown",
   "metadata": {},
   "source": [
    "## Export -"
   ]
  },
  {
   "cell_type": "code",
   "execution_count": null,
   "metadata": {},
   "outputs": [
    {
     "name": "stdout",
     "output_type": "stream",
     "text": [
      "Converted 00_url.ipynb.\n",
      "Converted 01_countrycodes.ipynb.\n",
      "Converted Untitled.ipynb.\n",
      "Converted index.ipynb.\n"
     ]
    }
   ],
   "source": [
    "#hide\n",
    "from nbdev.export import notebook2script\n",
    "notebook2script()"
   ]
  },
  {
   "cell_type": "code",
   "execution_count": null,
   "metadata": {},
   "outputs": [],
   "source": []
  }
 ],
 "metadata": {
  "kernelspec": {
   "display_name": "Python 3",
   "language": "python",
   "name": "python3"
  }
 },
 "nbformat": 4,
 "nbformat_minor": 2
}
